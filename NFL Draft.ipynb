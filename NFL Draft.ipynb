{
 "cells": [
  {
   "cell_type": "code",
   "execution_count": 1,
   "id": "a4223a1a-6e8d-4124-b98d-2c265d4f757f",
   "metadata": {},
   "outputs": [],
   "source": [
    "import requests\n",
    "from bs4 import BeautifulSoup\n",
    "import pandas as pd\n",
    "import time\n",
    "import random\n",
    "import numpy as np"
   ]
  },
  {
   "cell_type": "code",
   "execution_count": 67,
   "id": "15f68c67-6a33-4a07-ad89-f901bbf4adea",
   "metadata": {},
   "outputs": [],
   "source": [
    "pd.set_option('display.max_columns', None)\n",
    "pd.set_option('display.max_rows', 100)"
   ]
  },
  {
   "cell_type": "code",
   "execution_count": 4,
   "id": "cf964bb9-dc79-42ab-9482-8e815ec69983",
   "metadata": {},
   "outputs": [],
   "source": [
    "url = \"https://www.pro-football-reference.com/years/2016/draft.htm\"\n",
    "page = requests.get(url)\n",
    "html = page.text"
   ]
  },
  {
   "cell_type": "code",
   "execution_count": 5,
   "id": "9fed7b7f-4af4-443c-996b-246a42f88ebc",
   "metadata": {},
   "outputs": [],
   "source": [
    "soup = BeautifulSoup(html, 'html.parser')"
   ]
  },
  {
   "cell_type": "code",
   "execution_count": 7,
   "id": "abdedcc0-6820-4fdc-a362-be7c8aa78a56",
   "metadata": {},
   "outputs": [],
   "source": [
    "table = soup.find(\"table\")"
   ]
  },
  {
   "cell_type": "code",
   "execution_count": 10,
   "id": "330432b7-a06d-4964-8b27-b1519c4a9070",
   "metadata": {},
   "outputs": [],
   "source": [
    "df = pd.read_html(str(table))[0]\n",
    "df.columns = df.columns.droplevel()"
   ]
  },
  {
   "cell_type": "code",
   "execution_count": 11,
   "id": "1b1f84d2-2ba4-4ce7-8547-37e3ab28da6f",
   "metadata": {},
   "outputs": [
    {
     "data": {
      "text/html": [
       "<div>\n",
       "<style scoped>\n",
       "    .dataframe tbody tr th:only-of-type {\n",
       "        vertical-align: middle;\n",
       "    }\n",
       "\n",
       "    .dataframe tbody tr th {\n",
       "        vertical-align: top;\n",
       "    }\n",
       "\n",
       "    .dataframe thead th {\n",
       "        text-align: right;\n",
       "    }\n",
       "</style>\n",
       "<table border=\"1\" class=\"dataframe\">\n",
       "  <thead>\n",
       "    <tr style=\"text-align: right;\">\n",
       "      <th></th>\n",
       "      <th>Rnd</th>\n",
       "      <th>Pick</th>\n",
       "      <th>Tm</th>\n",
       "      <th>Player</th>\n",
       "      <th>Pos</th>\n",
       "      <th>Age</th>\n",
       "      <th>To</th>\n",
       "      <th>AP1</th>\n",
       "      <th>PB</th>\n",
       "      <th>St</th>\n",
       "      <th>...</th>\n",
       "      <th>Yds</th>\n",
       "      <th>TD</th>\n",
       "      <th>Rec</th>\n",
       "      <th>Yds</th>\n",
       "      <th>TD</th>\n",
       "      <th>Solo</th>\n",
       "      <th>Int</th>\n",
       "      <th>Sk</th>\n",
       "      <th>College/Univ</th>\n",
       "      <th>Unnamed: 28_level_1</th>\n",
       "    </tr>\n",
       "  </thead>\n",
       "  <tbody>\n",
       "    <tr>\n",
       "      <th>0</th>\n",
       "      <td>1</td>\n",
       "      <td>1</td>\n",
       "      <td>LAR</td>\n",
       "      <td>Jared Goff</td>\n",
       "      <td>QB</td>\n",
       "      <td>21</td>\n",
       "      <td>2022</td>\n",
       "      <td>0</td>\n",
       "      <td>2</td>\n",
       "      <td>5</td>\n",
       "      <td>...</td>\n",
       "      <td>431</td>\n",
       "      <td>10</td>\n",
       "      <td>1</td>\n",
       "      <td>5</td>\n",
       "      <td>0</td>\n",
       "      <td>2</td>\n",
       "      <td>NaN</td>\n",
       "      <td>NaN</td>\n",
       "      <td>California</td>\n",
       "      <td>College Stats</td>\n",
       "    </tr>\n",
       "    <tr>\n",
       "      <th>1</th>\n",
       "      <td>1</td>\n",
       "      <td>2</td>\n",
       "      <td>PHI</td>\n",
       "      <td>Carson Wentz</td>\n",
       "      <td>QB</td>\n",
       "      <td>23</td>\n",
       "      <td>2022</td>\n",
       "      <td>0</td>\n",
       "      <td>1</td>\n",
       "      <td>6</td>\n",
       "      <td>...</td>\n",
       "      <td>1355</td>\n",
       "      <td>9</td>\n",
       "      <td>2</td>\n",
       "      <td>11</td>\n",
       "      <td>0</td>\n",
       "      <td>1</td>\n",
       "      <td>NaN</td>\n",
       "      <td>NaN</td>\n",
       "      <td>North Dakota St.</td>\n",
       "      <td>College Stats</td>\n",
       "    </tr>\n",
       "    <tr>\n",
       "      <th>2</th>\n",
       "      <td>1</td>\n",
       "      <td>3</td>\n",
       "      <td>SDG</td>\n",
       "      <td>Joey Bosa</td>\n",
       "      <td>DE</td>\n",
       "      <td>21</td>\n",
       "      <td>2022</td>\n",
       "      <td>0</td>\n",
       "      <td>4</td>\n",
       "      <td>6</td>\n",
       "      <td>...</td>\n",
       "      <td>0</td>\n",
       "      <td>0</td>\n",
       "      <td>0</td>\n",
       "      <td>0</td>\n",
       "      <td>0</td>\n",
       "      <td>218</td>\n",
       "      <td>NaN</td>\n",
       "      <td>59.5</td>\n",
       "      <td>Ohio St.</td>\n",
       "      <td>College Stats</td>\n",
       "    </tr>\n",
       "    <tr>\n",
       "      <th>3</th>\n",
       "      <td>1</td>\n",
       "      <td>4</td>\n",
       "      <td>DAL</td>\n",
       "      <td>Ezekiel Elliott</td>\n",
       "      <td>RB</td>\n",
       "      <td>21</td>\n",
       "      <td>2022</td>\n",
       "      <td>1</td>\n",
       "      <td>3</td>\n",
       "      <td>6</td>\n",
       "      <td>...</td>\n",
       "      <td>7829</td>\n",
       "      <td>60</td>\n",
       "      <td>294</td>\n",
       "      <td>2276</td>\n",
       "      <td>12</td>\n",
       "      <td>1</td>\n",
       "      <td>NaN</td>\n",
       "      <td>NaN</td>\n",
       "      <td>Ohio St.</td>\n",
       "      <td>College Stats</td>\n",
       "    </tr>\n",
       "    <tr>\n",
       "      <th>4</th>\n",
       "      <td>1</td>\n",
       "      <td>5</td>\n",
       "      <td>JAX</td>\n",
       "      <td>Jalen Ramsey</td>\n",
       "      <td>CB</td>\n",
       "      <td>21</td>\n",
       "      <td>2022</td>\n",
       "      <td>3</td>\n",
       "      <td>5</td>\n",
       "      <td>6</td>\n",
       "      <td>...</td>\n",
       "      <td>0</td>\n",
       "      <td>0</td>\n",
       "      <td>0</td>\n",
       "      <td>0</td>\n",
       "      <td>0</td>\n",
       "      <td>335</td>\n",
       "      <td>16</td>\n",
       "      <td>2.0</td>\n",
       "      <td>Florida St.</td>\n",
       "      <td>College Stats</td>\n",
       "    </tr>\n",
       "  </tbody>\n",
       "</table>\n",
       "<p>5 rows × 29 columns</p>\n",
       "</div>"
      ],
      "text/plain": [
       "  Rnd Pick   Tm           Player Pos Age    To AP1 PB St  ...   Yds  TD  Rec  \\\n",
       "0   1    1  LAR       Jared Goff  QB  21  2022   0  2  5  ...   431  10    1   \n",
       "1   1    2  PHI     Carson Wentz  QB  23  2022   0  1  6  ...  1355   9    2   \n",
       "2   1    3  SDG        Joey Bosa  DE  21  2022   0  4  6  ...     0   0    0   \n",
       "3   1    4  DAL  Ezekiel Elliott  RB  21  2022   1  3  6  ...  7829  60  294   \n",
       "4   1    5  JAX     Jalen Ramsey  CB  21  2022   3  5  6  ...     0   0    0   \n",
       "\n",
       "    Yds  TD Solo  Int    Sk      College/Univ Unnamed: 28_level_1  \n",
       "0     5   0    2  NaN   NaN        California       College Stats  \n",
       "1    11   0    1  NaN   NaN  North Dakota St.       College Stats  \n",
       "2     0   0  218  NaN  59.5          Ohio St.       College Stats  \n",
       "3  2276  12    1  NaN   NaN          Ohio St.       College Stats  \n",
       "4     0   0  335   16   2.0       Florida St.       College Stats  \n",
       "\n",
       "[5 rows x 29 columns]"
      ]
     },
     "execution_count": 11,
     "metadata": {},
     "output_type": "execute_result"
    }
   ],
   "source": [
    "df.head()"
   ]
  },
  {
   "cell_type": "code",
   "execution_count": 21,
   "id": "df2350c9-36ab-4b3a-9c10-a8b4f8aa7d36",
   "metadata": {},
   "outputs": [],
   "source": [
    "# Creating a function that will pull the data from each draft class\n",
    "def scrape_draft(url):\n",
    "    r = requests.get(url)\n",
    "    soup = BeautifulSoup(r.text, 'html.parser')\n",
    "    table = soup.find('table')\n",
    "    df = pd.read_html(str(table))[0]\n",
    "    df.columns = df.columns.droplevel()\n",
    "    return df"
   ]
  },
  {
   "cell_type": "code",
   "execution_count": 26,
   "id": "685562d0-d6fc-43bc-8d9a-d212cb0737ad",
   "metadata": {},
   "outputs": [],
   "source": [
    "years = list(range(1987,2017))"
   ]
  },
  {
   "cell_type": "code",
   "execution_count": 33,
   "id": "b12dcd75-c4a7-4fac-b795-f66bd63084b8",
   "metadata": {},
   "outputs": [
    {
     "name": "stdout",
     "output_type": "stream",
     "text": [
      "1987 complete!\n",
      "1988 complete!\n",
      "1989 complete!\n",
      "1990 complete!\n",
      "1991 complete!\n",
      "1992 complete!\n",
      "1993 complete!\n",
      "1994 complete!\n",
      "1995 complete!\n",
      "1996 complete!\n",
      "1997 complete!\n",
      "1998 complete!\n",
      "1999 complete!\n",
      "2000 complete!\n",
      "2001 complete!\n",
      "2002 complete!\n",
      "2003 complete!\n",
      "2004 complete!\n",
      "2005 complete!\n",
      "2006 complete!\n",
      "2007 complete!\n",
      "2008 complete!\n",
      "2009 complete!\n",
      "2010 complete!\n",
      "2011 complete!\n",
      "2012 complete!\n",
      "2013 complete!\n",
      "2014 complete!\n",
      "2015 complete!\n",
      "2016 complete!\n"
     ]
    }
   ],
   "source": [
    "dfs = []\n",
    "for year in years:\n",
    "    url = \"https://www.pro-football-reference.com/years/\" + str(year) + \"/draft.htm\"\n",
    "    df = scrape_draft(url)\n",
    "    dfs.append(df)\n",
    "    time.sleep(random.randint(2,13))\n",
    "    print(str(year) + \" complete!\")"
   ]
  },
  {
   "cell_type": "code",
   "execution_count": 68,
   "id": "a4263d79-dc00-4d31-a80b-133a69bea6dc",
   "metadata": {},
   "outputs": [
    {
     "data": {
      "text/html": [
       "<div>\n",
       "<style scoped>\n",
       "    .dataframe tbody tr th:only-of-type {\n",
       "        vertical-align: middle;\n",
       "    }\n",
       "\n",
       "    .dataframe tbody tr th {\n",
       "        vertical-align: top;\n",
       "    }\n",
       "\n",
       "    .dataframe thead th {\n",
       "        text-align: right;\n",
       "    }\n",
       "</style>\n",
       "<table border=\"1\" class=\"dataframe\">\n",
       "  <thead>\n",
       "    <tr style=\"text-align: right;\">\n",
       "      <th></th>\n",
       "      <th>Rnd</th>\n",
       "      <th>Pick</th>\n",
       "      <th>Tm</th>\n",
       "      <th>Player</th>\n",
       "      <th>Pos</th>\n",
       "      <th>Age</th>\n",
       "      <th>To</th>\n",
       "      <th>AP1</th>\n",
       "      <th>PB</th>\n",
       "      <th>St</th>\n",
       "      <th>wAV</th>\n",
       "      <th>DrAV</th>\n",
       "      <th>G</th>\n",
       "      <th>Cmp</th>\n",
       "      <th>Att</th>\n",
       "      <th>Yds</th>\n",
       "      <th>TD</th>\n",
       "      <th>Int</th>\n",
       "      <th>Att</th>\n",
       "      <th>Yds</th>\n",
       "      <th>TD</th>\n",
       "      <th>Rec</th>\n",
       "      <th>Yds</th>\n",
       "      <th>TD</th>\n",
       "      <th>Solo</th>\n",
       "      <th>Int</th>\n",
       "      <th>Sk</th>\n",
       "      <th>College/Univ</th>\n",
       "      <th>Unnamed: 28_level_1</th>\n",
       "    </tr>\n",
       "  </thead>\n",
       "  <tbody>\n",
       "    <tr>\n",
       "      <th>0</th>\n",
       "      <td>1</td>\n",
       "      <td>1</td>\n",
       "      <td>HOU</td>\n",
       "      <td>David Carr</td>\n",
       "      <td>QB</td>\n",
       "      <td>23</td>\n",
       "      <td>2012</td>\n",
       "      <td>0</td>\n",
       "      <td>0</td>\n",
       "      <td>5</td>\n",
       "      <td>45</td>\n",
       "      <td>42</td>\n",
       "      <td>94</td>\n",
       "      <td>1353</td>\n",
       "      <td>2267</td>\n",
       "      <td>14452</td>\n",
       "      <td>65</td>\n",
       "      <td>71</td>\n",
       "      <td>305</td>\n",
       "      <td>1328</td>\n",
       "      <td>9</td>\n",
       "      <td>0</td>\n",
       "      <td>0</td>\n",
       "      <td>0</td>\n",
       "      <td>NaN</td>\n",
       "      <td>NaN</td>\n",
       "      <td>NaN</td>\n",
       "      <td>Fresno St.</td>\n",
       "      <td>College Stats</td>\n",
       "    </tr>\n",
       "    <tr>\n",
       "      <th>1</th>\n",
       "      <td>1</td>\n",
       "      <td>2</td>\n",
       "      <td>CAR</td>\n",
       "      <td>Julius Peppers</td>\n",
       "      <td>DE</td>\n",
       "      <td>22</td>\n",
       "      <td>2018</td>\n",
       "      <td>3</td>\n",
       "      <td>9</td>\n",
       "      <td>16</td>\n",
       "      <td>130</td>\n",
       "      <td>75</td>\n",
       "      <td>266</td>\n",
       "      <td>0</td>\n",
       "      <td>0</td>\n",
       "      <td>0</td>\n",
       "      <td>0</td>\n",
       "      <td>0</td>\n",
       "      <td>0</td>\n",
       "      <td>0</td>\n",
       "      <td>0</td>\n",
       "      <td>0</td>\n",
       "      <td>0</td>\n",
       "      <td>0</td>\n",
       "      <td>557</td>\n",
       "      <td>11</td>\n",
       "      <td>159.5</td>\n",
       "      <td>North Carolina</td>\n",
       "      <td>College Stats</td>\n",
       "    </tr>\n",
       "    <tr>\n",
       "      <th>2</th>\n",
       "      <td>1</td>\n",
       "      <td>3</td>\n",
       "      <td>DET</td>\n",
       "      <td>Joey Harrington</td>\n",
       "      <td>QB</td>\n",
       "      <td>23</td>\n",
       "      <td>2007</td>\n",
       "      <td>0</td>\n",
       "      <td>0</td>\n",
       "      <td>6</td>\n",
       "      <td>31</td>\n",
       "      <td>23</td>\n",
       "      <td>81</td>\n",
       "      <td>1424</td>\n",
       "      <td>2538</td>\n",
       "      <td>14693</td>\n",
       "      <td>79</td>\n",
       "      <td>85</td>\n",
       "      <td>142</td>\n",
       "      <td>402</td>\n",
       "      <td>0</td>\n",
       "      <td>3</td>\n",
       "      <td>8</td>\n",
       "      <td>0</td>\n",
       "      <td>NaN</td>\n",
       "      <td>NaN</td>\n",
       "      <td>NaN</td>\n",
       "      <td>Oregon</td>\n",
       "      <td>College Stats</td>\n",
       "    </tr>\n",
       "    <tr>\n",
       "      <th>3</th>\n",
       "      <td>1</td>\n",
       "      <td>4</td>\n",
       "      <td>BUF</td>\n",
       "      <td>Mike Williams</td>\n",
       "      <td>T</td>\n",
       "      <td>22</td>\n",
       "      <td>2009</td>\n",
       "      <td>0</td>\n",
       "      <td>0</td>\n",
       "      <td>4</td>\n",
       "      <td>24</td>\n",
       "      <td>21</td>\n",
       "      <td>59</td>\n",
       "      <td>0</td>\n",
       "      <td>0</td>\n",
       "      <td>0</td>\n",
       "      <td>0</td>\n",
       "      <td>0</td>\n",
       "      <td>0</td>\n",
       "      <td>0</td>\n",
       "      <td>0</td>\n",
       "      <td>0</td>\n",
       "      <td>0</td>\n",
       "      <td>0</td>\n",
       "      <td>NaN</td>\n",
       "      <td>NaN</td>\n",
       "      <td>NaN</td>\n",
       "      <td>Texas</td>\n",
       "      <td>College Stats</td>\n",
       "    </tr>\n",
       "    <tr>\n",
       "      <th>4</th>\n",
       "      <td>1</td>\n",
       "      <td>5</td>\n",
       "      <td>SDG</td>\n",
       "      <td>Quentin Jammer</td>\n",
       "      <td>DB</td>\n",
       "      <td>23</td>\n",
       "      <td>2013</td>\n",
       "      <td>0</td>\n",
       "      <td>0</td>\n",
       "      <td>10</td>\n",
       "      <td>52</td>\n",
       "      <td>51</td>\n",
       "      <td>183</td>\n",
       "      <td>0</td>\n",
       "      <td>0</td>\n",
       "      <td>0</td>\n",
       "      <td>0</td>\n",
       "      <td>0</td>\n",
       "      <td>0</td>\n",
       "      <td>0</td>\n",
       "      <td>0</td>\n",
       "      <td>0</td>\n",
       "      <td>0</td>\n",
       "      <td>0</td>\n",
       "      <td>631</td>\n",
       "      <td>21</td>\n",
       "      <td>NaN</td>\n",
       "      <td>Texas</td>\n",
       "      <td>College Stats</td>\n",
       "    </tr>\n",
       "  </tbody>\n",
       "</table>\n",
       "</div>"
      ],
      "text/plain": [
       "  Rnd Pick   Tm           Player Pos Age    To AP1 PB  St  wAV DrAV    G  \\\n",
       "0   1    1  HOU       David Carr  QB  23  2012   0  0   5   45   42   94   \n",
       "1   1    2  CAR   Julius Peppers  DE  22  2018   3  9  16  130   75  266   \n",
       "2   1    3  DET  Joey Harrington  QB  23  2007   0  0   6   31   23   81   \n",
       "3   1    4  BUF    Mike Williams   T  22  2009   0  0   4   24   21   59   \n",
       "4   1    5  SDG   Quentin Jammer  DB  23  2013   0  0  10   52   51  183   \n",
       "\n",
       "    Cmp   Att    Yds  TD Int  Att   Yds TD Rec Yds TD Solo  Int     Sk  \\\n",
       "0  1353  2267  14452  65  71  305  1328  9   0   0  0  NaN  NaN    NaN   \n",
       "1     0     0      0   0   0    0     0  0   0   0  0  557   11  159.5   \n",
       "2  1424  2538  14693  79  85  142   402  0   3   8  0  NaN  NaN    NaN   \n",
       "3     0     0      0   0   0    0     0  0   0   0  0  NaN  NaN    NaN   \n",
       "4     0     0      0   0   0    0     0  0   0   0  0  631   21    NaN   \n",
       "\n",
       "     College/Univ Unnamed: 28_level_1  \n",
       "0      Fresno St.       College Stats  \n",
       "1  North Carolina       College Stats  \n",
       "2          Oregon       College Stats  \n",
       "3           Texas       College Stats  \n",
       "4           Texas       College Stats  "
      ]
     },
     "execution_count": 68,
     "metadata": {},
     "output_type": "execute_result"
    }
   ],
   "source": [
    "dfs[15].head()"
   ]
  },
  {
   "cell_type": "code",
   "execution_count": 69,
   "id": "da087d93-2d40-420f-95ac-f3d8dd9a1bc9",
   "metadata": {},
   "outputs": [],
   "source": [
    "av_dfs = []\n",
    "for df in dfs:\n",
    "    av_df = df[['Rnd','Pick','Tm','Player','Pos','Age','wAV','DrAV','College/Univ']].copy()\n",
    "    av_dfs.append(av_df)"
   ]
  },
  {
   "cell_type": "code",
   "execution_count": 71,
   "id": "b00d7cf2-2ebb-494e-be11-c93e65d09e28",
   "metadata": {},
   "outputs": [
    {
     "data": {
      "text/plain": [
       "(8230, 9)"
      ]
     },
     "execution_count": 71,
     "metadata": {},
     "output_type": "execute_result"
    }
   ],
   "source": [
    "master_df = av_dfs[0]\n",
    "for df in av_dfs[1:]:\n",
    "    master_df = master_df.append(df)\n",
    "master_df.reset_index(inplace=True, drop=True)\n",
    "master_df.shape"
   ]
  },
  {
   "cell_type": "code",
   "execution_count": 72,
   "id": "cf471947-2002-4a4b-9435-6a2649e843a4",
   "metadata": {},
   "outputs": [
    {
     "data": {
      "text/html": [
       "<div>\n",
       "<style scoped>\n",
       "    .dataframe tbody tr th:only-of-type {\n",
       "        vertical-align: middle;\n",
       "    }\n",
       "\n",
       "    .dataframe tbody tr th {\n",
       "        vertical-align: top;\n",
       "    }\n",
       "\n",
       "    .dataframe thead th {\n",
       "        text-align: right;\n",
       "    }\n",
       "</style>\n",
       "<table border=\"1\" class=\"dataframe\">\n",
       "  <thead>\n",
       "    <tr style=\"text-align: right;\">\n",
       "      <th></th>\n",
       "      <th>Rnd</th>\n",
       "      <th>Pick</th>\n",
       "      <th>Tm</th>\n",
       "      <th>Player</th>\n",
       "      <th>Pos</th>\n",
       "      <th>Age</th>\n",
       "      <th>wAV</th>\n",
       "      <th>DrAV</th>\n",
       "      <th>College/Univ</th>\n",
       "    </tr>\n",
       "  </thead>\n",
       "  <tbody>\n",
       "    <tr>\n",
       "      <th>0</th>\n",
       "      <td>1</td>\n",
       "      <td>1</td>\n",
       "      <td>TAM</td>\n",
       "      <td>Vinny Testaverde</td>\n",
       "      <td>QB</td>\n",
       "      <td>23</td>\n",
       "      <td>97</td>\n",
       "      <td>26</td>\n",
       "      <td>Miami (FL)</td>\n",
       "    </tr>\n",
       "    <tr>\n",
       "      <th>1</th>\n",
       "      <td>1</td>\n",
       "      <td>2</td>\n",
       "      <td>IND</td>\n",
       "      <td>Cornelius Bennett</td>\n",
       "      <td>LB</td>\n",
       "      <td>22</td>\n",
       "      <td>91</td>\n",
       "      <td>8</td>\n",
       "      <td>Alabama</td>\n",
       "    </tr>\n",
       "    <tr>\n",
       "      <th>2</th>\n",
       "      <td>1</td>\n",
       "      <td>3</td>\n",
       "      <td>HOU</td>\n",
       "      <td>Alonzo Highsmith</td>\n",
       "      <td>RB</td>\n",
       "      <td>22</td>\n",
       "      <td>12</td>\n",
       "      <td>12</td>\n",
       "      <td>Miami (FL)</td>\n",
       "    </tr>\n",
       "    <tr>\n",
       "      <th>3</th>\n",
       "      <td>1</td>\n",
       "      <td>4</td>\n",
       "      <td>GNB</td>\n",
       "      <td>Brent Fullwood</td>\n",
       "      <td>RB</td>\n",
       "      <td>23</td>\n",
       "      <td>14</td>\n",
       "      <td>14</td>\n",
       "      <td>Auburn</td>\n",
       "    </tr>\n",
       "    <tr>\n",
       "      <th>4</th>\n",
       "      <td>1</td>\n",
       "      <td>5</td>\n",
       "      <td>CLE</td>\n",
       "      <td>Mike Junkin</td>\n",
       "      <td>LB</td>\n",
       "      <td>22</td>\n",
       "      <td>3</td>\n",
       "      <td>3</td>\n",
       "      <td>Duke</td>\n",
       "    </tr>\n",
       "  </tbody>\n",
       "</table>\n",
       "</div>"
      ],
      "text/plain": [
       "  Rnd Pick   Tm             Player Pos Age wAV DrAV College/Univ\n",
       "0   1    1  TAM   Vinny Testaverde  QB  23  97   26   Miami (FL)\n",
       "1   1    2  IND  Cornelius Bennett  LB  22  91    8      Alabama\n",
       "2   1    3  HOU   Alonzo Highsmith  RB  22  12   12   Miami (FL)\n",
       "3   1    4  GNB     Brent Fullwood  RB  23  14   14       Auburn\n",
       "4   1    5  CLE        Mike Junkin  LB  22   3    3         Duke"
      ]
     },
     "execution_count": 72,
     "metadata": {},
     "output_type": "execute_result"
    }
   ],
   "source": [
    "master_df.head()"
   ]
  },
  {
   "cell_type": "code",
   "execution_count": 73,
   "id": "bb2050e7-9b28-4d09-8657-82dce462f221",
   "metadata": {},
   "outputs": [
    {
     "name": "stdout",
     "output_type": "stream",
     "text": [
      "<class 'pandas.core.frame.DataFrame'>\n",
      "RangeIndex: 8230 entries, 0 to 8229\n",
      "Data columns (total 9 columns):\n",
      " #   Column        Non-Null Count  Dtype \n",
      "---  ------        --------------  ----- \n",
      " 0   Rnd           8230 non-null   object\n",
      " 1   Pick          8230 non-null   object\n",
      " 2   Tm            8230 non-null   object\n",
      " 3   Player        8230 non-null   object\n",
      " 4   Pos           8230 non-null   object\n",
      " 5   Age           7159 non-null   object\n",
      " 6   wAV           6975 non-null   object\n",
      " 7   DrAV          6294 non-null   object\n",
      " 8   College/Univ  8213 non-null   object\n",
      "dtypes: object(9)\n",
      "memory usage: 578.8+ KB\n"
     ]
    }
   ],
   "source": [
    "master_df.info()"
   ]
  },
  {
   "cell_type": "code",
   "execution_count": 86,
   "id": "9964442d-d251-43e3-b567-63d9cfe8d507",
   "metadata": {},
   "outputs": [],
   "source": [
    "master_df = master_df[master_df['wAV'] != 'wAV'].copy()"
   ]
  },
  {
   "cell_type": "code",
   "execution_count": 87,
   "id": "0dc77789-451b-4fa3-b2a2-5699815404b4",
   "metadata": {
    "tags": []
   },
   "outputs": [],
   "source": [
    "master_df['wAV'] = master_df['wAV'].fillna(0).astype('int')\n",
    "master_df['DrAV'] = master_df['DrAV'].fillna(0).astype('int')"
   ]
  },
  {
   "cell_type": "code",
   "execution_count": 104,
   "id": "ae66aeb9-2a38-47d7-90a9-384d71dd8c0c",
   "metadata": {},
   "outputs": [],
   "source": [
    "master_df['Pick'] = master_df['Pick'].astype('int')"
   ]
  },
  {
   "cell_type": "code",
   "execution_count": 105,
   "id": "228fe8a4-6e54-4ab8-bea9-7f0516615d8f",
   "metadata": {},
   "outputs": [
    {
     "name": "stdout",
     "output_type": "stream",
     "text": [
      "<class 'pandas.core.frame.DataFrame'>\n",
      "Int64Index: 8019 entries, 0 to 8229\n",
      "Data columns (total 9 columns):\n",
      " #   Column        Non-Null Count  Dtype \n",
      "---  ------        --------------  ----- \n",
      " 0   Rnd           8019 non-null   object\n",
      " 1   Pick          8019 non-null   int64 \n",
      " 2   Tm            8019 non-null   object\n",
      " 3   Player        8019 non-null   object\n",
      " 4   Pos           8019 non-null   object\n",
      " 5   Age           6948 non-null   object\n",
      " 6   wAV           8019 non-null   int64 \n",
      " 7   DrAV          8019 non-null   int64 \n",
      " 8   College/Univ  8002 non-null   object\n",
      "dtypes: int64(3), object(6)\n",
      "memory usage: 626.5+ KB\n"
     ]
    }
   ],
   "source": [
    "master_df.info()"
   ]
  },
  {
   "cell_type": "code",
   "execution_count": 106,
   "id": "f5506271-93d0-4e27-bb43-532d793f4dd8",
   "metadata": {},
   "outputs": [],
   "source": [
    "pick_df = master_df.groupby('Pick')"
   ]
  },
  {
   "cell_type": "code",
   "execution_count": 110,
   "id": "441334f0-0f27-4c95-a267-c50b737646df",
   "metadata": {
    "tags": []
   },
   "outputs": [
    {
     "data": {
      "text/plain": [
       "<AxesSubplot:xlabel='Pick'>"
      ]
     },
     "execution_count": 110,
     "metadata": {},
     "output_type": "execute_result"
    },
    {
     "data": {
      "image/png": "[encoded data removed]",
      "text/plain": [
       "<Figure size 432x288 with 1 Axes>"
      ]
     },
     "metadata": {
      "needs_background": "light"
     },
     "output_type": "display_data"
    }
   ],
   "source": [
    "pick_df['wAV'].median().plot(kind='line')"
   ]
  },
  {
   "cell_type": "code",
   "execution_count": 117,
   "id": "2ee1300c-3afe-4751-b9a9-e1ce2da57660",
   "metadata": {},
   "outputs": [
    {
     "data": {
      "text/plain": [
       "Pick\n",
       "336     1\n",
       "335     3\n",
       "334     4\n",
       "333     5\n",
       "332     5\n",
       "331     6\n",
       "294     6\n",
       "293     6\n",
       "290     6\n",
       "289     6\n",
       "288     6\n",
       "287     6\n",
       "286     6\n",
       "285     6\n",
       "284     6\n",
       "283     6\n",
       "282     6\n",
       "281     6\n",
       "280     6\n",
       "279     6\n",
       "278     6\n",
       "277     6\n",
       "263     6\n",
       "264     6\n",
       "265     6\n",
       "266     6\n",
       "267     6\n",
       "268     6\n",
       "295     6\n",
       "269     6\n",
       "271     6\n",
       "272     6\n",
       "273     6\n",
       "274     6\n",
       "275     6\n",
       "276     6\n",
       "270     6\n",
       "296     6\n",
       "291     6\n",
       "298     6\n",
       "317     6\n",
       "318     6\n",
       "297     6\n",
       "320     6\n",
       "321     6\n",
       "322     6\n",
       "316     6\n",
       "323     6\n",
       "325     6\n",
       "326     6\n",
       "327     6\n",
       "328     6\n",
       "329     6\n",
       "330     6\n",
       "324     6\n",
       "315     6\n",
       "319     6\n",
       "313     6\n",
       "299     6\n",
       "300     6\n",
       "314     6\n",
       "302     6\n",
       "303     6\n",
       "304     6\n",
       "305     6\n",
       "301     6\n",
       "307     6\n",
       "306     6\n",
       "312     6\n",
       "311     6\n",
       "292     6\n",
       "309     6\n",
       "308     6\n",
       "310     6\n",
       "262     7\n",
       "261     8\n",
       "259     8\n",
       "258     8\n",
       "257     8\n",
       "260     8\n",
       "256    11\n",
       "255    16\n",
       "254    20\n",
       "253    23\n",
       "250    24\n",
       "251    24\n",
       "252    24\n",
       "247    25\n",
       "249    25\n",
       "248    25\n",
       "246    26\n",
       "245    26\n",
       "244    26\n",
       "243    26\n",
       "242    26\n",
       "241    27\n",
       "225    28\n",
       "226    28\n",
       "227    28\n",
       "Name: wAV, dtype: int64"
      ]
     },
     "execution_count": 117,
     "metadata": {},
     "output_type": "execute_result"
    }
   ],
   "source": [
    "pick_df['wAV'].count().sort_values().head(99)"
   ]
  },
  {
   "cell_type": "code",
   "execution_count": 118,
   "id": "be348fba-d5b6-441c-a541-71194e0a94ea",
   "metadata": {},
   "outputs": [],
   "source": [
    "master_df = master_df[master_df['Pick']<=250]"
   ]
  },
  {
   "cell_type": "code",
   "execution_count": 144,
   "id": "23e0a2ca-1a2d-4982-acd5-c06057c2ea9a",
   "metadata": {},
   "outputs": [],
   "source": [
    "pick_val = master_df.groupby('Pick')['wAV'].median().sort_index(ascending=False)"
   ]
  },
  {
   "cell_type": "code",
   "execution_count": 145,
   "id": "f12788cc-010f-43e2-9d8f-718b1ccfb87f",
   "metadata": {},
   "outputs": [
    {
     "data": {
      "text/plain": [
       "<AxesSubplot:xlabel='Pick'>"
      ]
     },
     "execution_count": 145,
     "metadata": {},
     "output_type": "execute_result"
    },
    {
     "data": {
      "image/png": "[encoded data removed]",
      "text/plain": [
       "<Figure size 432x288 with 1 Axes>"
      ]
     },
     "metadata": {
      "needs_background": "light"
     },
     "output_type": "display_data"
    }
   ],
   "source": [
    "pick_val.plot(kind='line')"
   ]
  },
  {
   "cell_type": "code",
   "execution_count": 158,
   "id": "b3e4899c-9ef9-4f74-acbe-0a0c7a21549f",
   "metadata": {},
   "outputs": [
    {
     "data": {
      "text/plain": [
       "<AxesSubplot:xlabel='Pick'>"
      ]
     },
     "execution_count": 158,
     "metadata": {},
     "output_type": "execute_result"
    },
    {
     "data": {
      "image/png": "[encoded data removed]",
      "text/plain": [
       "<Figure size 432x288 with 1 Axes>"
      ]
     },
     "metadata": {
      "needs_background": "light"
     },
     "output_type": "display_data"
    }
   ],
   "source": [
    "rolling_val = pick_val.rolling(10).mean()\n",
    "rolling_val.plot(kind='line')"
   ]
  },
  {
   "cell_type": "code",
   "execution_count": 159,
   "id": "52d1fc61-1c64-4580-be9f-da733c0b8913",
   "metadata": {},
   "outputs": [
    {
     "data": {
      "text/html": [
       "<div>\n",
       "<style scoped>\n",
       "    .dataframe tbody tr th:only-of-type {\n",
       "        vertical-align: middle;\n",
       "    }\n",
       "\n",
       "    .dataframe tbody tr th {\n",
       "        vertical-align: top;\n",
       "    }\n",
       "\n",
       "    .dataframe thead th {\n",
       "        text-align: right;\n",
       "    }\n",
       "</style>\n",
       "<table border=\"1\" class=\"dataframe\">\n",
       "  <thead>\n",
       "    <tr style=\"text-align: right;\">\n",
       "      <th></th>\n",
       "      <th>Pick</th>\n",
       "      <th>wAV</th>\n",
       "    </tr>\n",
       "  </thead>\n",
       "  <tbody>\n",
       "    <tr>\n",
       "      <th>0</th>\n",
       "      <td>250</td>\n",
       "      <td>NaN</td>\n",
       "    </tr>\n",
       "    <tr>\n",
       "      <th>1</th>\n",
       "      <td>249</td>\n",
       "      <td>NaN</td>\n",
       "    </tr>\n",
       "    <tr>\n",
       "      <th>2</th>\n",
       "      <td>248</td>\n",
       "      <td>NaN</td>\n",
       "    </tr>\n",
       "    <tr>\n",
       "      <th>3</th>\n",
       "      <td>247</td>\n",
       "      <td>NaN</td>\n",
       "    </tr>\n",
       "    <tr>\n",
       "      <th>4</th>\n",
       "      <td>246</td>\n",
       "      <td>NaN</td>\n",
       "    </tr>\n",
       "  </tbody>\n",
       "</table>\n",
       "</div>"
      ],
      "text/plain": [
       "   Pick  wAV\n",
       "0   250  NaN\n",
       "1   249  NaN\n",
       "2   248  NaN\n",
       "3   247  NaN\n",
       "4   246  NaN"
      ]
     },
     "execution_count": 159,
     "metadata": {},
     "output_type": "execute_result"
    }
   ],
   "source": [
    "rolling_val = rolling_val.to_frame().reset_index()\n",
    "rolling_val.head()"
   ]
  },
  {
   "cell_type": "code",
   "execution_count": 151,
   "id": "cc4c5acd-3487-481c-b40d-f5a2c4713468",
   "metadata": {},
   "outputs": [
    {
     "data": {
      "text/html": [
       "<div>\n",
       "<style scoped>\n",
       "    .dataframe tbody tr th:only-of-type {\n",
       "        vertical-align: middle;\n",
       "    }\n",
       "\n",
       "    .dataframe tbody tr th {\n",
       "        vertical-align: top;\n",
       "    }\n",
       "\n",
       "    .dataframe thead th {\n",
       "        text-align: right;\n",
       "    }\n",
       "</style>\n",
       "<table border=\"1\" class=\"dataframe\">\n",
       "  <thead>\n",
       "    <tr style=\"text-align: right;\">\n",
       "      <th></th>\n",
       "      <th>Pick</th>\n",
       "      <th>Value</th>\n",
       "    </tr>\n",
       "  </thead>\n",
       "  <tbody>\n",
       "    <tr>\n",
       "      <th>0</th>\n",
       "      <td>1</td>\n",
       "      <td>3000.0</td>\n",
       "    </tr>\n",
       "    <tr>\n",
       "      <th>1</th>\n",
       "      <td>2</td>\n",
       "      <td>2600.0</td>\n",
       "    </tr>\n",
       "    <tr>\n",
       "      <th>2</th>\n",
       "      <td>3</td>\n",
       "      <td>2200.0</td>\n",
       "    </tr>\n",
       "    <tr>\n",
       "      <th>3</th>\n",
       "      <td>4</td>\n",
       "      <td>1800.0</td>\n",
       "    </tr>\n",
       "    <tr>\n",
       "      <th>4</th>\n",
       "      <td>5</td>\n",
       "      <td>1700.0</td>\n",
       "    </tr>\n",
       "  </tbody>\n",
       "</table>\n",
       "</div>"
      ],
      "text/plain": [
       "   Pick   Value\n",
       "0     1  3000.0\n",
       "1     2  2600.0\n",
       "2     3  2200.0\n",
       "3     4  1800.0\n",
       "4     5  1700.0"
      ]
     },
     "execution_count": 151,
     "metadata": {},
     "output_type": "execute_result"
    }
   ],
   "source": [
    "pick_value = pd.read_excel(\"Pick Value.xlsx\")\n",
    "pick_value.head()"
   ]
  },
  {
   "cell_type": "code",
   "execution_count": 167,
   "id": "c9893ac4-a14f-4178-b859-e969abcd8dfc",
   "metadata": {},
   "outputs": [
    {
     "data": {
      "text/html": [
       "<div>\n",
       "<style scoped>\n",
       "    .dataframe tbody tr th:only-of-type {\n",
       "        vertical-align: middle;\n",
       "    }\n",
       "\n",
       "    .dataframe tbody tr th {\n",
       "        vertical-align: top;\n",
       "    }\n",
       "\n",
       "    .dataframe thead th {\n",
       "        text-align: right;\n",
       "    }\n",
       "</style>\n",
       "<table border=\"1\" class=\"dataframe\">\n",
       "  <thead>\n",
       "    <tr style=\"text-align: right;\">\n",
       "      <th></th>\n",
       "      <th>wAV</th>\n",
       "      <th>Value</th>\n",
       "    </tr>\n",
       "    <tr>\n",
       "      <th>Pick</th>\n",
       "      <th></th>\n",
       "      <th></th>\n",
       "    </tr>\n",
       "  </thead>\n",
       "  <tbody>\n",
       "    <tr>\n",
       "      <th>1</th>\n",
       "      <td>47.35</td>\n",
       "      <td>3000.0</td>\n",
       "    </tr>\n",
       "    <tr>\n",
       "      <th>2</th>\n",
       "      <td>44.80</td>\n",
       "      <td>2600.0</td>\n",
       "    </tr>\n",
       "    <tr>\n",
       "      <th>3</th>\n",
       "      <td>44.55</td>\n",
       "      <td>2200.0</td>\n",
       "    </tr>\n",
       "    <tr>\n",
       "      <th>4</th>\n",
       "      <td>44.60</td>\n",
       "      <td>1800.0</td>\n",
       "    </tr>\n",
       "    <tr>\n",
       "      <th>5</th>\n",
       "      <td>43.45</td>\n",
       "      <td>1700.0</td>\n",
       "    </tr>\n",
       "  </tbody>\n",
       "</table>\n",
       "</div>"
      ],
      "text/plain": [
       "        wAV   Value\n",
       "Pick               \n",
       "1     47.35  3000.0\n",
       "2     44.80  2600.0\n",
       "3     44.55  2200.0\n",
       "4     44.60  1800.0\n",
       "5     43.45  1700.0"
      ]
     },
     "execution_count": 167,
     "metadata": {},
     "output_type": "execute_result"
    }
   ],
   "source": [
    "combined_df = rolling_val.merge(pick_value, on=\"Pick\").sort_values(\"Pick\").set_index(\"Pick\", drop=True)\n",
    "combined_df.head()"
   ]
  },
  {
   "cell_type": "code",
   "execution_count": 168,
   "id": "c3629cf3-235c-4f42-9553-5a348ce3334c",
   "metadata": {},
   "outputs": [],
   "source": [
    "normalized_df = (combined_df-combined_df.mean())/combined_df.std()"
   ]
  },
  {
   "cell_type": "code",
   "execution_count": 169,
   "id": "0a4edc28-26d7-4b9c-b63a-6cbd516dadee",
   "metadata": {},
   "outputs": [
    {
     "data": {
      "text/plain": [
       "<AxesSubplot:xlabel='Pick'>"
      ]
     },
     "execution_count": 169,
     "metadata": {},
     "output_type": "execute_result"
    },
    {
     "data": {
      "image/png": "[encoded data removed]",
      "text/plain": [
       "<Figure size 432x288 with 1 Axes>"
      ]
     },
     "metadata": {
      "needs_background": "light"
     },
     "output_type": "display_data"
    }
   ],
   "source": [
    "normalized_df.plot(kind='line')"
   ]
  },
  {
   "cell_type": "code",
   "execution_count": 170,
   "id": "eabcc230-6bd1-4a4d-a9a3-bbc402396466",
   "metadata": {},
   "outputs": [],
   "source": [
    "import matplotlib.pyplot as plt"
   ]
  },
  {
   "cell_type": "code",
   "execution_count": 174,
   "id": "4e7ede3d-2321-4c17-ae96-04e6724fd641",
   "metadata": {},
   "outputs": [],
   "source": [
    "x = normalized_df.index\n",
    "actual_value = normalized_df['wAV']\n",
    "projected_value = normalized_df['Value']"
   ]
  },
  {
   "cell_type": "code",
   "execution_count": 185,
   "id": "b8d2b3a4-190e-40c3-9712-93d2c6534636",
   "metadata": {},
   "outputs": [
    {
     "data": {
      "image/png": "[encoded data removed]",
      "text/plain": [
       "<Figure size 720x720 with 2 Axes>"
      ]
     },
     "metadata": {
      "needs_background": "light"
     },
     "output_type": "display_data"
    }
   ],
   "source": [
    "fig, (ax1, ax2) = plt.subplots(2,1, figsize=(10,10))\n",
    "\n",
    "ax1.set_title('Draft Actual Value vs Projected')\n",
    "ax1.plot(x, actual_value)\n",
    "ax1.plot(x, projected_value)\n",
    "ax1.fill_between(x, actual_value, projected_value, where=(actual_value > projected_value), color='C0', alpha=0.3)\n",
    "ax1.fill_between(x, actual_value, projected_value, where=(actual_value < projected_value), color='C1', alpha=0.3)\n",
    "\n",
    "ax2.set_title('A Closer Look')\n",
    "ax2.plot(x, actual_value)\n",
    "ax2.plot(x, projected_value)\n",
    "ax2.fill_between(x, actual_value, projected_value, where=(actual_value > projected_value), color='C0', alpha=0.3)\n",
    "ax2.fill_between(x, actual_value, projected_value, where=(actual_value < projected_value), color='C1', alpha=0.3)\n",
    "ax2.set_xlim([7,125])\n",
    "ax2.set_ylim([-.5,2.5])\n",
    "ax2.set_xticks(list(range(10,130,5)))\n",
    "\n",
    "fig.tight_layout()\n",
    "plt.show()"
   ]
  },
  {
   "cell_type": "code",
   "execution_count": null,
   "id": "40a6c7fa-d205-4a7d-bedf-8504f69c8141",
   "metadata": {},
   "outputs": [],
   "source": []
  }
 ],
 "metadata": {
  "kernelspec": {
   "display_name": "Python 3",
   "language": "python",
   "name": "python3"
  },
  "language_info": {
   "codemirror_mode": {
    "name": "ipython",
    "version": 3
   },
   "file_extension": ".py",
   "mimetype": "text/x-python",
   "name": "python",
   "nbconvert_exporter": "python",
   "pygments_lexer": "ipython3",
   "version": "3.8.8"
  }
 },
 "nbformat": 4,
 "nbformat_minor": 5
}
