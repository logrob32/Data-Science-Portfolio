{
 "cells": [
  {
   "cell_type": "markdown",
   "id": "e1b66190",
   "metadata": {},
   "source": [
    "# Predicting Bike Rentals"
   ]
  },
  {
   "cell_type": "markdown",
   "id": "14ac9a7c",
   "metadata": {},
   "source": [
    "Many U.S. cities have communal bike sharing stations where you can rent bicycles by the hour or day. Washington, D.C. is one of these cities. The District collects detailed data on the number of bicycles people rent by the hour and day."
   ]
  },
  {
   "cell_type": "markdown",
   "id": "16130ad2",
   "metadata": {},
   "source": [
    "Here are the descriptions for the relevant columns:\n",
    "\n",
    "- instant - A unique sequential ID number for each row\n",
    "- dteday - The date of the rentals\n",
    "- season - The season in which the rentals occurred\n",
    "- yr - The year the rentals occurred\n",
    "- mnth - The month the rentals occurred\n",
    "- hr - The hour the rentals occurred\n",
    "- holiday - Whether or not the day was a holiday\n",
    "- weekday - The day of the week (as a number, 0 to 7)\n",
    "- workingday - Whether or not the day was a working day\n",
    "- weathersit - The weather (as a categorical variable)\n",
    "- temp - The temperature, on a 0-1 scale\n",
    "- atemp - The adjusted temperature\n",
    "- hum - The humidity, on a 0-1 scale\n",
    "- windspeed - The wind speed, on a 0-1 scale\n",
    "- casual - The number of casual riders (people who hadn't previously signed up with the bike sharing program)\n",
    "- registered - The number of registered riders (people who had already signed up)\n",
    "- cnt - The total number of bike rentals (casual + registered)"
   ]
  },
  {
   "cell_type": "markdown",
   "id": "b511b782",
   "metadata": {},
   "source": [
    "In this project, you'll try to predict the total number of bikes people rented in a given hour. You'll predict the cnt column using all of the other columns, except for casual and registered. To accomplish this, you'll create a few different machine learning models and evaluate their performance.\n",
    "\n"
   ]
  },
  {
   "cell_type": "code",
   "execution_count": 1,
   "id": "540af25a",
   "metadata": {},
   "outputs": [],
   "source": [
    "import pandas as pd"
   ]
  },
  {
   "cell_type": "code",
   "execution_count": 2,
   "id": "e3815c73",
   "metadata": {},
   "outputs": [],
   "source": [
    "bike_rentals = pd.read_csv('bike_rental_hour.csv')"
   ]
  },
  {
   "cell_type": "code",
   "execution_count": 3,
   "id": "7d5b2be1",
   "metadata": {},
   "outputs": [
    {
     "data": {
      "text/html": [
       "<div>\n",
       "<style scoped>\n",
       "    .dataframe tbody tr th:only-of-type {\n",
       "        vertical-align: middle;\n",
       "    }\n",
       "\n",
       "    .dataframe tbody tr th {\n",
       "        vertical-align: top;\n",
       "    }\n",
       "\n",
       "    .dataframe thead th {\n",
       "        text-align: right;\n",
       "    }\n",
       "</style>\n",
       "<table border=\"1\" class=\"dataframe\">\n",
       "  <thead>\n",
       "    <tr style=\"text-align: right;\">\n",
       "      <th></th>\n",
       "      <th>instant</th>\n",
       "      <th>dteday</th>\n",
       "      <th>season</th>\n",
       "      <th>yr</th>\n",
       "      <th>mnth</th>\n",
       "      <th>hr</th>\n",
       "      <th>holiday</th>\n",
       "      <th>weekday</th>\n",
       "      <th>workingday</th>\n",
       "      <th>weathersit</th>\n",
       "      <th>temp</th>\n",
       "      <th>atemp</th>\n",
       "      <th>hum</th>\n",
       "      <th>windspeed</th>\n",
       "      <th>casual</th>\n",
       "      <th>registered</th>\n",
       "      <th>cnt</th>\n",
       "    </tr>\n",
       "  </thead>\n",
       "  <tbody>\n",
       "    <tr>\n",
       "      <th>0</th>\n",
       "      <td>1</td>\n",
       "      <td>2011-01-01</td>\n",
       "      <td>1</td>\n",
       "      <td>0</td>\n",
       "      <td>1</td>\n",
       "      <td>0</td>\n",
       "      <td>0</td>\n",
       "      <td>6</td>\n",
       "      <td>0</td>\n",
       "      <td>1</td>\n",
       "      <td>0.24</td>\n",
       "      <td>0.2879</td>\n",
       "      <td>0.81</td>\n",
       "      <td>0.0</td>\n",
       "      <td>3</td>\n",
       "      <td>13</td>\n",
       "      <td>16</td>\n",
       "    </tr>\n",
       "    <tr>\n",
       "      <th>1</th>\n",
       "      <td>2</td>\n",
       "      <td>2011-01-01</td>\n",
       "      <td>1</td>\n",
       "      <td>0</td>\n",
       "      <td>1</td>\n",
       "      <td>1</td>\n",
       "      <td>0</td>\n",
       "      <td>6</td>\n",
       "      <td>0</td>\n",
       "      <td>1</td>\n",
       "      <td>0.22</td>\n",
       "      <td>0.2727</td>\n",
       "      <td>0.80</td>\n",
       "      <td>0.0</td>\n",
       "      <td>8</td>\n",
       "      <td>32</td>\n",
       "      <td>40</td>\n",
       "    </tr>\n",
       "    <tr>\n",
       "      <th>2</th>\n",
       "      <td>3</td>\n",
       "      <td>2011-01-01</td>\n",
       "      <td>1</td>\n",
       "      <td>0</td>\n",
       "      <td>1</td>\n",
       "      <td>2</td>\n",
       "      <td>0</td>\n",
       "      <td>6</td>\n",
       "      <td>0</td>\n",
       "      <td>1</td>\n",
       "      <td>0.22</td>\n",
       "      <td>0.2727</td>\n",
       "      <td>0.80</td>\n",
       "      <td>0.0</td>\n",
       "      <td>5</td>\n",
       "      <td>27</td>\n",
       "      <td>32</td>\n",
       "    </tr>\n",
       "    <tr>\n",
       "      <th>3</th>\n",
       "      <td>4</td>\n",
       "      <td>2011-01-01</td>\n",
       "      <td>1</td>\n",
       "      <td>0</td>\n",
       "      <td>1</td>\n",
       "      <td>3</td>\n",
       "      <td>0</td>\n",
       "      <td>6</td>\n",
       "      <td>0</td>\n",
       "      <td>1</td>\n",
       "      <td>0.24</td>\n",
       "      <td>0.2879</td>\n",
       "      <td>0.75</td>\n",
       "      <td>0.0</td>\n",
       "      <td>3</td>\n",
       "      <td>10</td>\n",
       "      <td>13</td>\n",
       "    </tr>\n",
       "    <tr>\n",
       "      <th>4</th>\n",
       "      <td>5</td>\n",
       "      <td>2011-01-01</td>\n",
       "      <td>1</td>\n",
       "      <td>0</td>\n",
       "      <td>1</td>\n",
       "      <td>4</td>\n",
       "      <td>0</td>\n",
       "      <td>6</td>\n",
       "      <td>0</td>\n",
       "      <td>1</td>\n",
       "      <td>0.24</td>\n",
       "      <td>0.2879</td>\n",
       "      <td>0.75</td>\n",
       "      <td>0.0</td>\n",
       "      <td>0</td>\n",
       "      <td>1</td>\n",
       "      <td>1</td>\n",
       "    </tr>\n",
       "  </tbody>\n",
       "</table>\n",
       "</div>"
      ],
      "text/plain": [
       "   instant      dteday  season  yr  mnth  hr  holiday  weekday  workingday  \\\n",
       "0        1  2011-01-01       1   0     1   0        0        6           0   \n",
       "1        2  2011-01-01       1   0     1   1        0        6           0   \n",
       "2        3  2011-01-01       1   0     1   2        0        6           0   \n",
       "3        4  2011-01-01       1   0     1   3        0        6           0   \n",
       "4        5  2011-01-01       1   0     1   4        0        6           0   \n",
       "\n",
       "   weathersit  temp   atemp   hum  windspeed  casual  registered  cnt  \n",
       "0           1  0.24  0.2879  0.81        0.0       3          13   16  \n",
       "1           1  0.22  0.2727  0.80        0.0       8          32   40  \n",
       "2           1  0.22  0.2727  0.80        0.0       5          27   32  \n",
       "3           1  0.24  0.2879  0.75        0.0       3          10   13  \n",
       "4           1  0.24  0.2879  0.75        0.0       0           1    1  "
      ]
     },
     "execution_count": 3,
     "metadata": {},
     "output_type": "execute_result"
    }
   ],
   "source": [
    "bike_rentals.head()"
   ]
  },
  {
   "cell_type": "code",
   "execution_count": 6,
   "id": "ea7ad0a5",
   "metadata": {},
   "outputs": [
    {
     "name": "stdout",
     "output_type": "stream",
     "text": [
      "[0, 100, 200, 300, 400, 500, 600, 700, 800, 900, 1000]\n"
     ]
    }
   ],
   "source": [
    "xticks = list(range(0,1100,100))\n",
    "print(xticks)"
   ]
  },
  {
   "cell_type": "code",
   "execution_count": 7,
   "id": "002859fb",
   "metadata": {},
   "outputs": [
    {
     "data": {
      "text/plain": [
       "<AxesSubplot:ylabel='Frequency'>"
      ]
     },
     "execution_count": 7,
     "metadata": {},
     "output_type": "execute_result"
    },
    {
     "data": {
      "image/png": "[encoded data removed]",
      "text/plain": [
       "<Figure size 432x288 with 1 Axes>"
      ]
     },
     "metadata": {
      "needs_background": "light"
     },
     "output_type": "display_data"
    }
   ],
   "source": [
    "bike_rentals['cnt'].plot(kind='hist', xticks=xticks)"
   ]
  },
  {
   "cell_type": "markdown",
   "id": "834b2771",
   "metadata": {},
   "source": [
    "We can see that the most common outcome is that fewer than 100 bikes are rented. In general, it is increasingly less common for high amounts of bikes to be rented."
   ]
  },
  {
   "cell_type": "code",
   "execution_count": 9,
   "id": "37ee7673",
   "metadata": {
    "scrolled": true
   },
   "outputs": [
    {
     "name": "stdout",
     "output_type": "stream",
     "text": [
      "cnt           1.000000\n",
      "registered    0.972151\n",
      "casual        0.694564\n",
      "temp          0.404772\n",
      "atemp         0.400929\n",
      "hr            0.394071\n",
      "hum           0.322911\n",
      "instant       0.278379\n",
      "yr            0.250495\n",
      "season        0.178056\n",
      "weathersit    0.142426\n",
      "mnth          0.120638\n",
      "windspeed     0.093234\n",
      "holiday       0.030927\n",
      "workingday    0.030284\n",
      "weekday       0.026900\n",
      "Name: cnt, dtype: float64\n"
     ]
    }
   ],
   "source": [
    "corrs = bike_rentals.corr()\n",
    "cnt_corr = abs(corrs['cnt']).sort_values(ascending=False)\n",
    "print(cnt_corr)"
   ]
  },
  {
   "cell_type": "markdown",
   "id": "ecada5d7",
   "metadata": {},
   "source": [
    "Not surprisingly, the number of registered rentals is by far the best predictor, as that is a key part of total rentals. The same goes for casual rentals. Because these two add up to the total rentals, we should not use them for predictive purposes. Instead we'll use the other useful features, such as temperature, hour of the day, and humidity."
   ]
  },
  {
   "cell_type": "markdown",
   "id": "83d8ed2e",
   "metadata": {},
   "source": [
    "Let's see what effects the individual components of total rentals, registered and casual."
   ]
  },
  {
   "cell_type": "code",
   "execution_count": 26,
   "id": "fdb83c53",
   "metadata": {},
   "outputs": [
    {
     "name": "stdout",
     "output_type": "stream",
     "text": [
      "registered    1.000000\n",
      "cnt           0.972151\n",
      "casual        0.506618\n",
      "hr            0.374141\n",
      "temp          0.335361\n",
      "atemp         0.332559\n",
      "instant       0.282046\n",
      "hum           0.273933\n",
      "yr            0.253684\n",
      "season        0.174226\n",
      "workingday    0.134326\n",
      "mnth          0.122273\n",
      "weathersit    0.120966\n",
      "windspeed     0.082321\n",
      "holiday       0.047345\n",
      "weekday       0.021578\n",
      "Name: registered, dtype: float64\n"
     ]
    }
   ],
   "source": [
    "reg_corr = abs(corrs['registered']).sort_values(ascending=False)\n",
    "print(reg_corr)"
   ]
  },
  {
   "cell_type": "code",
   "execution_count": 27,
   "id": "cf339639",
   "metadata": {},
   "outputs": [
    {
     "name": "stdout",
     "output_type": "stream",
     "text": [
      "casual        1.000000\n",
      "cnt           0.694564\n",
      "registered    0.506618\n",
      "temp          0.459616\n",
      "atemp         0.454080\n",
      "hum           0.347028\n",
      "hr            0.301202\n",
      "workingday    0.300942\n",
      "instant       0.158295\n",
      "weathersit    0.152628\n",
      "yr            0.142779\n",
      "season        0.120206\n",
      "windspeed     0.090287\n",
      "mnth          0.068457\n",
      "weekday       0.032721\n",
      "holiday       0.031564\n",
      "Name: casual, dtype: float64\n"
     ]
    }
   ],
   "source": [
    "cas_corr = abs(corrs['casual']).sort_values(ascending=False)\n",
    "print(cas_corr)"
   ]
  },
  {
   "cell_type": "markdown",
   "id": "44678294",
   "metadata": {},
   "source": [
    "For hour, let's group it into broader times of day."
   ]
  },
  {
   "cell_type": "code",
   "execution_count": 10,
   "id": "587e81f0",
   "metadata": {},
   "outputs": [],
   "source": [
    "def assign_label(hour):\n",
    "    if 6 <= hour < 12:\n",
    "        return 1\n",
    "    elif 12 <= hour < 18:\n",
    "        return 2\n",
    "    elif 18 <= hour < 24:\n",
    "        return 3\n",
    "    else:\n",
    "        return 4"
   ]
  },
  {
   "cell_type": "code",
   "execution_count": 13,
   "id": "2b72d1a3",
   "metadata": {},
   "outputs": [
    {
     "data": {
      "text/plain": [
       "<AxesSubplot:ylabel='Frequency'>"
      ]
     },
     "execution_count": 13,
     "metadata": {},
     "output_type": "execute_result"
    },
    {
     "data": {
      "image/png": "[encoded data removed]",
      "text/plain": [
       "<Figure size 432x288 with 1 Axes>"
      ]
     },
     "metadata": {
      "needs_background": "light"
     },
     "output_type": "display_data"
    }
   ],
   "source": [
    "bike_rentals['time_label'] = bike_rentals['hr'].apply(assign_label)\n",
    "bike_rentals['time_label'].plot(kind='hist')"
   ]
  },
  {
   "cell_type": "code",
   "execution_count": 15,
   "id": "9191022c",
   "metadata": {},
   "outputs": [
    {
     "data": {
      "text/plain": [
       "2    4375\n",
       "3    4368\n",
       "1    4360\n",
       "4    4276\n",
       "Name: time_label, dtype: int64"
      ]
     },
     "execution_count": 15,
     "metadata": {},
     "output_type": "execute_result"
    }
   ],
   "source": [
    "bike_rentals['time_label'].value_counts()"
   ]
  },
  {
   "cell_type": "markdown",
   "id": "97ea4eaf",
   "metadata": {},
   "source": [
    "Looks like our hours are split pretty evenly. This makes sense if each day is recorded in full."
   ]
  },
  {
   "cell_type": "markdown",
   "id": "d1bb9d1e",
   "metadata": {},
   "source": [
    "## Creating Training And Testing A Linear Regression Model"
   ]
  },
  {
   "cell_type": "markdown",
   "id": "e97969aa",
   "metadata": {},
   "source": [
    "First we'll need to identify which columns to use. Let's use the features that were above .05 in the correlation, but make sure not to include the ones that add into the total."
   ]
  },
  {
   "cell_type": "code",
   "execution_count": 52,
   "id": "2cbf504d",
   "metadata": {
    "scrolled": true
   },
   "outputs": [
    {
     "name": "stdout",
     "output_type": "stream",
     "text": [
      "['temp', 'atemp', 'hr', 'hum', 'instant', 'yr', 'season', 'weathersit', 'mnth', 'windspeed', 'holiday', 'workingday', 'weekday']\n"
     ]
    }
   ],
   "source": [
    "features = cnt_corr.index[3:16].to_list()\n",
    "print(features)"
   ]
  },
  {
   "cell_type": "markdown",
   "id": "b652916c",
   "metadata": {},
   "source": [
    "One small problem is some of these may be intensely correlated with each other, like temp and atemp likely are. We don't want this, as it would inadvertently overweigh one aspect of the features. Let's check for this."
   ]
  },
  {
   "cell_type": "code",
   "execution_count": 19,
   "id": "477e439e",
   "metadata": {},
   "outputs": [],
   "source": [
    "import seaborn as sns"
   ]
  },
  {
   "cell_type": "code",
   "execution_count": 53,
   "id": "925ef5cc",
   "metadata": {},
   "outputs": [
    {
     "data": {
      "text/html": [
       "<div>\n",
       "<style scoped>\n",
       "    .dataframe tbody tr th:only-of-type {\n",
       "        vertical-align: middle;\n",
       "    }\n",
       "\n",
       "    .dataframe tbody tr th {\n",
       "        vertical-align: top;\n",
       "    }\n",
       "\n",
       "    .dataframe thead th {\n",
       "        text-align: right;\n",
       "    }\n",
       "</style>\n",
       "<table border=\"1\" class=\"dataframe\">\n",
       "  <thead>\n",
       "    <tr style=\"text-align: right;\">\n",
       "      <th></th>\n",
       "      <th>temp</th>\n",
       "      <th>atemp</th>\n",
       "      <th>hr</th>\n",
       "      <th>hum</th>\n",
       "      <th>instant</th>\n",
       "      <th>yr</th>\n",
       "      <th>season</th>\n",
       "      <th>weathersit</th>\n",
       "      <th>mnth</th>\n",
       "      <th>windspeed</th>\n",
       "      <th>holiday</th>\n",
       "      <th>workingday</th>\n",
       "      <th>weekday</th>\n",
       "    </tr>\n",
       "  </thead>\n",
       "  <tbody>\n",
       "    <tr>\n",
       "      <th>temp</th>\n",
       "      <td>1.000000</td>\n",
       "      <td>0.987672</td>\n",
       "      <td>0.137603</td>\n",
       "      <td>-0.069881</td>\n",
       "      <td>0.136178</td>\n",
       "      <td>0.040913</td>\n",
       "      <td>0.312025</td>\n",
       "      <td>-0.102640</td>\n",
       "      <td>0.201691</td>\n",
       "      <td>-0.023125</td>\n",
       "      <td>-0.027340</td>\n",
       "      <td>0.055390</td>\n",
       "      <td>-0.001795</td>\n",
       "    </tr>\n",
       "    <tr>\n",
       "      <th>atemp</th>\n",
       "      <td>0.987672</td>\n",
       "      <td>1.000000</td>\n",
       "      <td>0.133750</td>\n",
       "      <td>-0.051918</td>\n",
       "      <td>0.137615</td>\n",
       "      <td>0.039222</td>\n",
       "      <td>0.319380</td>\n",
       "      <td>-0.105563</td>\n",
       "      <td>0.208096</td>\n",
       "      <td>-0.062336</td>\n",
       "      <td>-0.030973</td>\n",
       "      <td>0.054667</td>\n",
       "      <td>-0.008821</td>\n",
       "    </tr>\n",
       "    <tr>\n",
       "      <th>hr</th>\n",
       "      <td>0.137603</td>\n",
       "      <td>0.133750</td>\n",
       "      <td>1.000000</td>\n",
       "      <td>-0.276498</td>\n",
       "      <td>-0.004775</td>\n",
       "      <td>-0.003867</td>\n",
       "      <td>-0.006117</td>\n",
       "      <td>-0.020203</td>\n",
       "      <td>-0.005772</td>\n",
       "      <td>0.137252</td>\n",
       "      <td>0.000479</td>\n",
       "      <td>0.002285</td>\n",
       "      <td>-0.003498</td>\n",
       "    </tr>\n",
       "    <tr>\n",
       "      <th>hum</th>\n",
       "      <td>-0.069881</td>\n",
       "      <td>-0.051918</td>\n",
       "      <td>-0.276498</td>\n",
       "      <td>1.000000</td>\n",
       "      <td>0.009577</td>\n",
       "      <td>-0.083546</td>\n",
       "      <td>0.150625</td>\n",
       "      <td>0.418130</td>\n",
       "      <td>0.164411</td>\n",
       "      <td>-0.290105</td>\n",
       "      <td>-0.010588</td>\n",
       "      <td>0.015688</td>\n",
       "      <td>-0.037158</td>\n",
       "    </tr>\n",
       "    <tr>\n",
       "      <th>instant</th>\n",
       "      <td>0.136178</td>\n",
       "      <td>0.137615</td>\n",
       "      <td>-0.004775</td>\n",
       "      <td>0.009577</td>\n",
       "      <td>1.000000</td>\n",
       "      <td>0.866014</td>\n",
       "      <td>0.404046</td>\n",
       "      <td>-0.014198</td>\n",
       "      <td>0.489164</td>\n",
       "      <td>-0.074505</td>\n",
       "      <td>0.014723</td>\n",
       "      <td>-0.003416</td>\n",
       "      <td>0.001357</td>\n",
       "    </tr>\n",
       "    <tr>\n",
       "      <th>yr</th>\n",
       "      <td>0.040913</td>\n",
       "      <td>0.039222</td>\n",
       "      <td>-0.003867</td>\n",
       "      <td>-0.083546</td>\n",
       "      <td>0.866014</td>\n",
       "      <td>1.000000</td>\n",
       "      <td>-0.010742</td>\n",
       "      <td>-0.019157</td>\n",
       "      <td>-0.010473</td>\n",
       "      <td>-0.008740</td>\n",
       "      <td>0.006692</td>\n",
       "      <td>-0.002196</td>\n",
       "      <td>-0.004485</td>\n",
       "    </tr>\n",
       "    <tr>\n",
       "      <th>season</th>\n",
       "      <td>0.312025</td>\n",
       "      <td>0.319380</td>\n",
       "      <td>-0.006117</td>\n",
       "      <td>0.150625</td>\n",
       "      <td>0.404046</td>\n",
       "      <td>-0.010742</td>\n",
       "      <td>1.000000</td>\n",
       "      <td>-0.014524</td>\n",
       "      <td>0.830386</td>\n",
       "      <td>-0.149773</td>\n",
       "      <td>-0.009585</td>\n",
       "      <td>0.013743</td>\n",
       "      <td>-0.002335</td>\n",
       "    </tr>\n",
       "    <tr>\n",
       "      <th>weathersit</th>\n",
       "      <td>-0.102640</td>\n",
       "      <td>-0.105563</td>\n",
       "      <td>-0.020203</td>\n",
       "      <td>0.418130</td>\n",
       "      <td>-0.014198</td>\n",
       "      <td>-0.019157</td>\n",
       "      <td>-0.014524</td>\n",
       "      <td>1.000000</td>\n",
       "      <td>0.005400</td>\n",
       "      <td>0.026226</td>\n",
       "      <td>-0.017036</td>\n",
       "      <td>0.044672</td>\n",
       "      <td>0.003311</td>\n",
       "    </tr>\n",
       "    <tr>\n",
       "      <th>mnth</th>\n",
       "      <td>0.201691</td>\n",
       "      <td>0.208096</td>\n",
       "      <td>-0.005772</td>\n",
       "      <td>0.164411</td>\n",
       "      <td>0.489164</td>\n",
       "      <td>-0.010473</td>\n",
       "      <td>0.830386</td>\n",
       "      <td>0.005400</td>\n",
       "      <td>1.000000</td>\n",
       "      <td>-0.135386</td>\n",
       "      <td>0.018430</td>\n",
       "      <td>-0.003477</td>\n",
       "      <td>0.010400</td>\n",
       "    </tr>\n",
       "    <tr>\n",
       "      <th>windspeed</th>\n",
       "      <td>-0.023125</td>\n",
       "      <td>-0.062336</td>\n",
       "      <td>0.137252</td>\n",
       "      <td>-0.290105</td>\n",
       "      <td>-0.074505</td>\n",
       "      <td>-0.008740</td>\n",
       "      <td>-0.149773</td>\n",
       "      <td>0.026226</td>\n",
       "      <td>-0.135386</td>\n",
       "      <td>1.000000</td>\n",
       "      <td>0.003988</td>\n",
       "      <td>-0.011830</td>\n",
       "      <td>0.011502</td>\n",
       "    </tr>\n",
       "    <tr>\n",
       "      <th>holiday</th>\n",
       "      <td>-0.027340</td>\n",
       "      <td>-0.030973</td>\n",
       "      <td>0.000479</td>\n",
       "      <td>-0.010588</td>\n",
       "      <td>0.014723</td>\n",
       "      <td>0.006692</td>\n",
       "      <td>-0.009585</td>\n",
       "      <td>-0.017036</td>\n",
       "      <td>0.018430</td>\n",
       "      <td>0.003988</td>\n",
       "      <td>1.000000</td>\n",
       "      <td>-0.252471</td>\n",
       "      <td>-0.102088</td>\n",
       "    </tr>\n",
       "    <tr>\n",
       "      <th>workingday</th>\n",
       "      <td>0.055390</td>\n",
       "      <td>0.054667</td>\n",
       "      <td>0.002285</td>\n",
       "      <td>0.015688</td>\n",
       "      <td>-0.003416</td>\n",
       "      <td>-0.002196</td>\n",
       "      <td>0.013743</td>\n",
       "      <td>0.044672</td>\n",
       "      <td>-0.003477</td>\n",
       "      <td>-0.011830</td>\n",
       "      <td>-0.252471</td>\n",
       "      <td>1.000000</td>\n",
       "      <td>0.035955</td>\n",
       "    </tr>\n",
       "    <tr>\n",
       "      <th>weekday</th>\n",
       "      <td>-0.001795</td>\n",
       "      <td>-0.008821</td>\n",
       "      <td>-0.003498</td>\n",
       "      <td>-0.037158</td>\n",
       "      <td>0.001357</td>\n",
       "      <td>-0.004485</td>\n",
       "      <td>-0.002335</td>\n",
       "      <td>0.003311</td>\n",
       "      <td>0.010400</td>\n",
       "      <td>0.011502</td>\n",
       "      <td>-0.102088</td>\n",
       "      <td>0.035955</td>\n",
       "      <td>1.000000</td>\n",
       "    </tr>\n",
       "  </tbody>\n",
       "</table>\n",
       "</div>"
      ],
      "text/plain": [
       "                temp     atemp        hr       hum   instant        yr  \\\n",
       "temp        1.000000  0.987672  0.137603 -0.069881  0.136178  0.040913   \n",
       "atemp       0.987672  1.000000  0.133750 -0.051918  0.137615  0.039222   \n",
       "hr          0.137603  0.133750  1.000000 -0.276498 -0.004775 -0.003867   \n",
       "hum        -0.069881 -0.051918 -0.276498  1.000000  0.009577 -0.083546   \n",
       "instant     0.136178  0.137615 -0.004775  0.009577  1.000000  0.866014   \n",
       "yr          0.040913  0.039222 -0.003867 -0.083546  0.866014  1.000000   \n",
       "season      0.312025  0.319380 -0.006117  0.150625  0.404046 -0.010742   \n",
       "weathersit -0.102640 -0.105563 -0.020203  0.418130 -0.014198 -0.019157   \n",
       "mnth        0.201691  0.208096 -0.005772  0.164411  0.489164 -0.010473   \n",
       "windspeed  -0.023125 -0.062336  0.137252 -0.290105 -0.074505 -0.008740   \n",
       "holiday    -0.027340 -0.030973  0.000479 -0.010588  0.014723  0.006692   \n",
       "workingday  0.055390  0.054667  0.002285  0.015688 -0.003416 -0.002196   \n",
       "weekday    -0.001795 -0.008821 -0.003498 -0.037158  0.001357 -0.004485   \n",
       "\n",
       "              season  weathersit      mnth  windspeed   holiday  workingday  \\\n",
       "temp        0.312025   -0.102640  0.201691  -0.023125 -0.027340    0.055390   \n",
       "atemp       0.319380   -0.105563  0.208096  -0.062336 -0.030973    0.054667   \n",
       "hr         -0.006117   -0.020203 -0.005772   0.137252  0.000479    0.002285   \n",
       "hum         0.150625    0.418130  0.164411  -0.290105 -0.010588    0.015688   \n",
       "instant     0.404046   -0.014198  0.489164  -0.074505  0.014723   -0.003416   \n",
       "yr         -0.010742   -0.019157 -0.010473  -0.008740  0.006692   -0.002196   \n",
       "season      1.000000   -0.014524  0.830386  -0.149773 -0.009585    0.013743   \n",
       "weathersit -0.014524    1.000000  0.005400   0.026226 -0.017036    0.044672   \n",
       "mnth        0.830386    0.005400  1.000000  -0.135386  0.018430   -0.003477   \n",
       "windspeed  -0.149773    0.026226 -0.135386   1.000000  0.003988   -0.011830   \n",
       "holiday    -0.009585   -0.017036  0.018430   0.003988  1.000000   -0.252471   \n",
       "workingday  0.013743    0.044672 -0.003477  -0.011830 -0.252471    1.000000   \n",
       "weekday    -0.002335    0.003311  0.010400   0.011502 -0.102088    0.035955   \n",
       "\n",
       "             weekday  \n",
       "temp       -0.001795  \n",
       "atemp      -0.008821  \n",
       "hr         -0.003498  \n",
       "hum        -0.037158  \n",
       "instant     0.001357  \n",
       "yr         -0.004485  \n",
       "season     -0.002335  \n",
       "weathersit  0.003311  \n",
       "mnth        0.010400  \n",
       "windspeed   0.011502  \n",
       "holiday    -0.102088  \n",
       "workingday  0.035955  \n",
       "weekday     1.000000  "
      ]
     },
     "execution_count": 53,
     "metadata": {},
     "output_type": "execute_result"
    }
   ],
   "source": [
    "feature_corr = bike_rentals[features].corr()\n",
    "feature_corr"
   ]
  },
  {
   "cell_type": "code",
   "execution_count": 35,
   "id": "d67684f1",
   "metadata": {
    "scrolled": true
   },
   "outputs": [
    {
     "data": {
      "text/plain": [
       "<AxesSubplot:>"
      ]
     },
     "execution_count": 35,
     "metadata": {},
     "output_type": "execute_result"
    },
    {
     "data": {
      "image/png": "[encoded data removed]",
      "text/plain": [
       "<Figure size 432x288 with 2 Axes>"
      ]
     },
     "metadata": {
      "needs_background": "light"
     },
     "output_type": "display_data"
    }
   ],
   "source": [
    "sns.heatmap(feature_corr)"
   ]
  },
  {
   "cell_type": "markdown",
   "id": "95c8446f",
   "metadata": {},
   "source": [
    "We can see temp and atemp are completely correlated, so we'll definitely remove one of those. We can also see that instant, the ID column, is fairly correlated with yr, or the year column. This makes sense, as these are logged chronologically. For this reason, and because ID is somewhat arbitrary, we'll take out the instant column as well. Season is also fairly correlated with month. Since season is more closely correlated with our target of total rentals, we'll remove month."
   ]
  },
  {
   "cell_type": "code",
   "execution_count": 54,
   "id": "1f9b097f",
   "metadata": {},
   "outputs": [
    {
     "data": {
      "text/plain": [
       "['temp',\n",
       " 'hr',\n",
       " 'hum',\n",
       " 'yr',\n",
       " 'season',\n",
       " 'weathersit',\n",
       " 'windspeed',\n",
       " 'holiday',\n",
       " 'workingday',\n",
       " 'weekday']"
      ]
     },
     "execution_count": 54,
     "metadata": {},
     "output_type": "execute_result"
    }
   ],
   "source": [
    "features.remove('atemp')\n",
    "features.remove('instant')\n",
    "features.remove('mnth')\n",
    "features"
   ]
  },
  {
   "cell_type": "markdown",
   "id": "5d3f1144",
   "metadata": {},
   "source": [
    "Now we've got our 7 most relevant features. Temperature, hour, humidity, and year."
   ]
  },
  {
   "cell_type": "code",
   "execution_count": 55,
   "id": "c58e91a8",
   "metadata": {},
   "outputs": [
    {
     "data": {
      "text/html": [
       "<div>\n",
       "<style scoped>\n",
       "    .dataframe tbody tr th:only-of-type {\n",
       "        vertical-align: middle;\n",
       "    }\n",
       "\n",
       "    .dataframe tbody tr th {\n",
       "        vertical-align: top;\n",
       "    }\n",
       "\n",
       "    .dataframe thead th {\n",
       "        text-align: right;\n",
       "    }\n",
       "</style>\n",
       "<table border=\"1\" class=\"dataframe\">\n",
       "  <thead>\n",
       "    <tr style=\"text-align: right;\">\n",
       "      <th></th>\n",
       "      <th>temp</th>\n",
       "      <th>hr</th>\n",
       "      <th>hum</th>\n",
       "      <th>yr</th>\n",
       "      <th>season</th>\n",
       "      <th>weathersit</th>\n",
       "      <th>windspeed</th>\n",
       "      <th>holiday</th>\n",
       "      <th>workingday</th>\n",
       "      <th>weekday</th>\n",
       "    </tr>\n",
       "  </thead>\n",
       "  <tbody>\n",
       "    <tr>\n",
       "      <th>0</th>\n",
       "      <td>0.24</td>\n",
       "      <td>0</td>\n",
       "      <td>0.81</td>\n",
       "      <td>0</td>\n",
       "      <td>1</td>\n",
       "      <td>1</td>\n",
       "      <td>0.0</td>\n",
       "      <td>0</td>\n",
       "      <td>0</td>\n",
       "      <td>6</td>\n",
       "    </tr>\n",
       "    <tr>\n",
       "      <th>1</th>\n",
       "      <td>0.22</td>\n",
       "      <td>1</td>\n",
       "      <td>0.80</td>\n",
       "      <td>0</td>\n",
       "      <td>1</td>\n",
       "      <td>1</td>\n",
       "      <td>0.0</td>\n",
       "      <td>0</td>\n",
       "      <td>0</td>\n",
       "      <td>6</td>\n",
       "    </tr>\n",
       "    <tr>\n",
       "      <th>2</th>\n",
       "      <td>0.22</td>\n",
       "      <td>2</td>\n",
       "      <td>0.80</td>\n",
       "      <td>0</td>\n",
       "      <td>1</td>\n",
       "      <td>1</td>\n",
       "      <td>0.0</td>\n",
       "      <td>0</td>\n",
       "      <td>0</td>\n",
       "      <td>6</td>\n",
       "    </tr>\n",
       "    <tr>\n",
       "      <th>3</th>\n",
       "      <td>0.24</td>\n",
       "      <td>3</td>\n",
       "      <td>0.75</td>\n",
       "      <td>0</td>\n",
       "      <td>1</td>\n",
       "      <td>1</td>\n",
       "      <td>0.0</td>\n",
       "      <td>0</td>\n",
       "      <td>0</td>\n",
       "      <td>6</td>\n",
       "    </tr>\n",
       "    <tr>\n",
       "      <th>4</th>\n",
       "      <td>0.24</td>\n",
       "      <td>4</td>\n",
       "      <td>0.75</td>\n",
       "      <td>0</td>\n",
       "      <td>1</td>\n",
       "      <td>1</td>\n",
       "      <td>0.0</td>\n",
       "      <td>0</td>\n",
       "      <td>0</td>\n",
       "      <td>6</td>\n",
       "    </tr>\n",
       "  </tbody>\n",
       "</table>\n",
       "</div>"
      ],
      "text/plain": [
       "   temp  hr   hum  yr  season  weathersit  windspeed  holiday  workingday  \\\n",
       "0  0.24   0  0.81   0       1           1        0.0        0           0   \n",
       "1  0.22   1  0.80   0       1           1        0.0        0           0   \n",
       "2  0.22   2  0.80   0       1           1        0.0        0           0   \n",
       "3  0.24   3  0.75   0       1           1        0.0        0           0   \n",
       "4  0.24   4  0.75   0       1           1        0.0        0           0   \n",
       "\n",
       "   weekday  \n",
       "0        6  \n",
       "1        6  \n",
       "2        6  \n",
       "3        6  \n",
       "4        6  "
      ]
     },
     "execution_count": 55,
     "metadata": {},
     "output_type": "execute_result"
    }
   ],
   "source": [
    "X = bike_rentals[features]\n",
    "X.head()"
   ]
  },
  {
   "cell_type": "code",
   "execution_count": 56,
   "id": "0b7ce21d",
   "metadata": {},
   "outputs": [
    {
     "data": {
      "text/plain": [
       "0    16\n",
       "1    40\n",
       "2    32\n",
       "3    13\n",
       "4     1\n",
       "Name: cnt, dtype: int64"
      ]
     },
     "execution_count": 56,
     "metadata": {},
     "output_type": "execute_result"
    }
   ],
   "source": [
    "y = bike_rentals['cnt']\n",
    "y.head()"
   ]
  },
  {
   "cell_type": "code",
   "execution_count": 16,
   "id": "3c7727e0",
   "metadata": {},
   "outputs": [],
   "source": [
    "from sklearn.model_selection import train_test_split"
   ]
  },
  {
   "cell_type": "code",
   "execution_count": 57,
   "id": "14940304",
   "metadata": {},
   "outputs": [],
   "source": [
    "X_train, X_test, y_train, y_test = train_test_split(X, y, test_size=0.2)"
   ]
  },
  {
   "cell_type": "code",
   "execution_count": 58,
   "id": "541d1fd1",
   "metadata": {},
   "outputs": [
    {
     "data": {
      "text/plain": [
       "(13903, 10)"
      ]
     },
     "execution_count": 58,
     "metadata": {},
     "output_type": "execute_result"
    }
   ],
   "source": [
    "X_train.shape"
   ]
  },
  {
   "cell_type": "code",
   "execution_count": 59,
   "id": "9fc9e28b",
   "metadata": {},
   "outputs": [
    {
     "data": {
      "text/plain": [
       "(3476, 10)"
      ]
     },
     "execution_count": 59,
     "metadata": {},
     "output_type": "execute_result"
    }
   ],
   "source": [
    "X_test.shape"
   ]
  },
  {
   "cell_type": "code",
   "execution_count": 60,
   "id": "e76f77cd",
   "metadata": {},
   "outputs": [
    {
     "data": {
      "text/plain": [
       "(13903,)"
      ]
     },
     "execution_count": 60,
     "metadata": {},
     "output_type": "execute_result"
    }
   ],
   "source": [
    "y_train.shape"
   ]
  },
  {
   "cell_type": "code",
   "execution_count": 61,
   "id": "508b5a8a",
   "metadata": {},
   "outputs": [
    {
     "data": {
      "text/plain": [
       "(3476,)"
      ]
     },
     "execution_count": 61,
     "metadata": {},
     "output_type": "execute_result"
    }
   ],
   "source": [
    "y_test.shape"
   ]
  },
  {
   "cell_type": "code",
   "execution_count": 45,
   "id": "7485d8f1",
   "metadata": {},
   "outputs": [],
   "source": [
    "from sklearn.linear_model import LinearRegression"
   ]
  },
  {
   "cell_type": "code",
   "execution_count": 62,
   "id": "55823ec8",
   "metadata": {},
   "outputs": [],
   "source": [
    "reg = LinearRegression()"
   ]
  },
  {
   "cell_type": "code",
   "execution_count": 63,
   "id": "441da40f",
   "metadata": {},
   "outputs": [
    {
     "data": {
      "text/plain": [
       "LinearRegression()"
      ]
     },
     "execution_count": 63,
     "metadata": {},
     "output_type": "execute_result"
    }
   ],
   "source": [
    "reg.fit(X_train, y_train)"
   ]
  },
  {
   "cell_type": "code",
   "execution_count": 64,
   "id": "55b02683",
   "metadata": {},
   "outputs": [],
   "source": [
    "predictions = reg.predict(X_test)"
   ]
  },
  {
   "cell_type": "code",
   "execution_count": 49,
   "id": "f507dfc0",
   "metadata": {},
   "outputs": [],
   "source": [
    "from sklearn.metrics import mean_squared_error"
   ]
  },
  {
   "cell_type": "code",
   "execution_count": 65,
   "id": "868c65b3",
   "metadata": {},
   "outputs": [
    {
     "name": "stdout",
     "output_type": "stream",
     "text": [
      "19971.14135564152\n",
      "141.31928868927102\n"
     ]
    }
   ],
   "source": [
    "mse = mean_squared_error(predictions, y_test)\n",
    "rmse = mse**.5\n",
    "print(mse)\n",
    "print(rmse)"
   ]
  },
  {
   "cell_type": "markdown",
   "id": "4b4d33ca",
   "metadata": {},
   "source": [
    "This is a very high error. This is basically saying that on average our predictions were off by about 141 bikes. Keep in mind the most common occurrence is for fewer than 100 bikes to be rented."
   ]
  },
  {
   "cell_type": "markdown",
   "id": "c8b38238",
   "metadata": {},
   "source": [
    "## Using a Decision Tree Regression Model"
   ]
  },
  {
   "cell_type": "code",
   "execution_count": 66,
   "id": "ebf488fe",
   "metadata": {},
   "outputs": [],
   "source": [
    "from sklearn.tree import DecisionTreeRegressor"
   ]
  },
  {
   "cell_type": "code",
   "execution_count": 67,
   "id": "6f7045c4",
   "metadata": {},
   "outputs": [],
   "source": [
    "tree = DecisionTreeRegressor()"
   ]
  },
  {
   "cell_type": "code",
   "execution_count": 68,
   "id": "c82d7dce",
   "metadata": {},
   "outputs": [
    {
     "data": {
      "text/plain": [
       "DecisionTreeRegressor()"
      ]
     },
     "execution_count": 68,
     "metadata": {},
     "output_type": "execute_result"
    }
   ],
   "source": [
    "tree.fit(X_train, y_train)"
   ]
  },
  {
   "cell_type": "code",
   "execution_count": 69,
   "id": "d4d2fc0a",
   "metadata": {},
   "outputs": [],
   "source": [
    "tree_predictions = tree.predict(X_test)"
   ]
  },
  {
   "cell_type": "code",
   "execution_count": 70,
   "id": "36b7981d",
   "metadata": {},
   "outputs": [
    {
     "name": "stdout",
     "output_type": "stream",
     "text": [
      "3578.911104718067\n",
      "59.824001075806244\n"
     ]
    }
   ],
   "source": [
    "tree_mse = mean_squared_error(tree_predictions, y_test)\n",
    "tree_rmse = tree_mse**.5\n",
    "print(tree_mse)\n",
    "print(tree_rmse)"
   ]
  },
  {
   "cell_type": "markdown",
   "id": "e7fdb795",
   "metadata": {},
   "source": [
    "This is way more accurate!"
   ]
  },
  {
   "cell_type": "markdown",
   "id": "0cdb997f",
   "metadata": {},
   "source": [
    "Let's see what happens if we try to adjust some of the parameters."
   ]
  },
  {
   "cell_type": "code",
   "execution_count": 71,
   "id": "24de2657",
   "metadata": {},
   "outputs": [
    {
     "name": "stdout",
     "output_type": "stream",
     "text": [
      "2887.652107889836\n",
      "53.73687847177054\n"
     ]
    }
   ],
   "source": [
    "tree = DecisionTreeRegressor(min_samples_split = 10)\n",
    "tree.fit(X_train, y_train)\n",
    "tree_predictions = tree.predict(X_test)\n",
    "tree_mse = mean_squared_error(tree_predictions, y_test)\n",
    "tree_rmse = tree_mse**.5\n",
    "print(tree_mse)\n",
    "print(tree_rmse)"
   ]
  },
  {
   "cell_type": "markdown",
   "id": "10847136",
   "metadata": {},
   "source": [
    "A little better still! Let's try some other parameter adjustments."
   ]
  },
  {
   "cell_type": "code",
   "execution_count": 93,
   "id": "adb9416c",
   "metadata": {},
   "outputs": [
    {
     "name": "stdout",
     "output_type": "stream",
     "text": [
      "2613.7372570281295\n",
      "51.12472256186951\n"
     ]
    }
   ],
   "source": [
    "tree = DecisionTreeRegressor(min_samples_leaf = 10)\n",
    "tree.fit(X_train, y_train)\n",
    "tree_predictions = tree.predict(X_test)\n",
    "tree_mse = mean_squared_error(tree_predictions, y_test)\n",
    "tree_rmse = tree_mse**.5\n",
    "print(tree_mse)\n",
    "print(tree_rmse)"
   ]
  },
  {
   "cell_type": "markdown",
   "id": "bf739186",
   "metadata": {},
   "source": [
    "From a little testing, looks like this is about as good a prediction as we can get."
   ]
  },
  {
   "cell_type": "markdown",
   "id": "a3f590c1",
   "metadata": {},
   "source": [
    "## Random Forest"
   ]
  },
  {
   "cell_type": "code",
   "execution_count": 94,
   "id": "2dacbd04",
   "metadata": {},
   "outputs": [],
   "source": [
    "from sklearn.ensemble import RandomForestRegressor"
   ]
  },
  {
   "cell_type": "code",
   "execution_count": 101,
   "id": "e0af1622",
   "metadata": {},
   "outputs": [
    {
     "name": "stdout",
     "output_type": "stream",
     "text": [
      "1800.1022087163064\n",
      "42.427611395367364\n"
     ]
    }
   ],
   "source": [
    "forest = RandomForestRegressor()\n",
    "forest.fit(X_train, y_train)\n",
    "forest_predictions = forest.predict(X_test)\n",
    "forest_mse = mean_squared_error(forest_predictions, y_test)\n",
    "forest_rmse = forest_mse**.5\n",
    "print(forest_mse)\n",
    "print(forest_rmse)"
   ]
  },
  {
   "cell_type": "markdown",
   "id": "ed945bc1",
   "metadata": {},
   "source": [
    "With no parameter optimization, our forest still does better than the decision tree regressor, and much better than the linear regressor. Let's try to optimize parameters and improve accuracy even more."
   ]
  },
  {
   "cell_type": "code",
   "execution_count": 111,
   "id": "8c9f302d",
   "metadata": {},
   "outputs": [
    {
     "name": "stdout",
     "output_type": "stream",
     "text": [
      "1749.109590712112\n",
      "41.82235754607949\n"
     ]
    }
   ],
   "source": [
    "forest = RandomForestRegressor(max_features = 6)\n",
    "forest.fit(X_train, y_train)\n",
    "forest_predictions = forest.predict(X_test)\n",
    "forest_mse = mean_squared_error(forest_predictions, y_test)\n",
    "forest_rmse = forest_mse**.5\n",
    "print(forest_mse)\n",
    "print(forest_rmse)"
   ]
  },
  {
   "cell_type": "markdown",
   "id": "2b811b5c",
   "metadata": {},
   "source": [
    "After trying a number of parameter optimizations, the best I could do was by limiting the amount of features selected to 6, which made the forest marginally better at predicting results."
   ]
  },
  {
   "cell_type": "code",
   "execution_count": null,
   "id": "9f69c40f",
   "metadata": {},
   "outputs": [],
   "source": []
  }
 ],
 "metadata": {
  "kernelspec": {
   "display_name": "Python 3",
   "language": "python",
   "name": "python3"
  },
  "language_info": {
   "codemirror_mode": {
    "name": "ipython",
    "version": 3
   },
   "file_extension": ".py",
   "mimetype": "text/x-python",
   "name": "python",
   "nbconvert_exporter": "python",
   "pygments_lexer": "ipython3",
   "version": "3.8.8"
  }
 },
 "nbformat": 4,
 "nbformat_minor": 5
}
